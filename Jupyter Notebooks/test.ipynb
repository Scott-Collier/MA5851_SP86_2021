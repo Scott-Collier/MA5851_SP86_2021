{
 "cells": [
  {
   "cell_type": "markdown",
   "id": "2a58f262-d7cd-44d6-a69e-f1ed3efdaf04",
   "metadata": {},
   "source": [
    "<img src='features_with_ticks.png'>"
   ]
  },
  {
   "cell_type": "markdown",
   "id": "fded7c58-9d1e-49b9-bcfd-8a4a2ca9c608",
   "metadata": {},
   "source": [
    "![Second Test](features_with_ticks.png)"
   ]
  },
  {
   "cell_type": "code",
   "execution_count": null,
   "id": "89aed185-ec53-40f8-b0f3-e18effab4c58",
   "metadata": {},
   "outputs": [],
   "source": []
  }
 ],
 "metadata": {
  "kernelspec": {
   "display_name": "Python 3 (ipykernel)",
   "language": "python",
   "name": "python3"
  },
  "language_info": {
   "codemirror_mode": {
    "name": "ipython",
    "version": 3
   },
   "file_extension": ".py",
   "mimetype": "text/x-python",
   "name": "python",
   "nbconvert_exporter": "python",
   "pygments_lexer": "ipython3",
   "version": "3.8.12"
  }
 },
 "nbformat": 4,
 "nbformat_minor": 5
}
