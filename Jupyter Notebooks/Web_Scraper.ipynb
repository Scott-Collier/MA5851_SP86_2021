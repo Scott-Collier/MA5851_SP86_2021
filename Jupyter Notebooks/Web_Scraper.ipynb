{
 "cells": [
  {
   "cell_type": "markdown",
   "id": "05c8f182-fa96-4727-a17e-ce117aaa589a",
   "metadata": {},
   "source": [
    "# Web scraper to extract intial specifications and product links"
   ]
  },
  {
   "cell_type": "markdown",
   "id": "555f9991-1ee9-4e24-b8ac-3267ddbb68b5",
   "metadata": {},
   "source": [
    "## DRAFT - currently under development"
   ]
  },
  {
   "cell_type": "markdown",
   "id": "1eaa8487-f194-4bdd-ba45-235c0183f94c",
   "metadata": {},
   "source": [
    "### Important Details:\n",
    "Website: https://www.appliancesonline.com.au/"
   ]
  },
  {
   "cell_type": "code",
   "execution_count": null,
   "id": "9a30c86c-3dab-452f-b108-bc2eb3a9edad",
   "metadata": {},
   "outputs": [],
   "source": [
    "# Import modules\n",
    "from selenium import webdriver\n",
    "from selenium.webdriver.chrome.options import Options\n",
    "from selenium.common.exceptions import NoSuchElementException\n",
    "\n",
    "from time import sleep\n",
    "import pandas as pd\n",
    "import pickle"
   ]
  },
  {
   "cell_type": "code",
   "execution_count": null,
   "id": "0978b6f7-9642-4186-ae7b-29a53635cbf8",
   "metadata": {},
   "outputs": [],
   "source": [
    "# find element : Helper function\n",
    "def find_element(element, element_tag, element_type):\n",
    "    result = None\n",
    "    try:\n",
    "        if(element_type == 'css_selector'):\n",
    "            result = element.find_element_by_css_selector(element_tag).text\n",
    "            \n",
    "        elif (element_type == 'href'):\n",
    "            result = element.find_element_by_class_name(element_tag).get_attribute('href')\n",
    "            \n",
    "    except NoSuchElementException:\n",
    "        result = None\n",
    "    \n",
    "    return(result)   "
   ]
  },
  {
   "cell_type": "code",
   "execution_count": null,
   "id": "cf71d25e-f3d4-4b73-93cc-212c9a31ec7a",
   "metadata": {},
   "outputs": [],
   "source": [
    "# get_product_data : Helper function\n",
    "def get_product_data(driver, data_dict):\n",
    "    Cells = driver.find_elements_by_css_selector('aol-product[trackinglistname=\"grid\"] div.inner')\n",
    "    offset = len(data_dict)\n",
    "    for i, cell in enumerate(Cells):\n",
    "            \n",
    "        # Convert data to a dictionary\n",
    "        data_dict[i+offset] = {\"ID\": str(i+offset).zfill(5),\n",
    "                               \"Product_Name\": find_element(cell, 'div.product-name', 'css_selector'),                                                     \n",
    "                               \"Product_Link\": find_element(cell, 'body-link', 'href'),\n",
    "                               \"Price\": find_element(cell, 'div.price', 'css_selector'),\n",
    "                               \"Review_Count\": find_element(cell, 'span.label', 'css_selector'),\n",
    "                               \"Review_Score\": find_element(cell, 'span.avg-rating', 'css_selector'),\n",
    "                               \"Original_Price\": find_element(cell, 'div.amount', 'css_selector')}\n",
    "\n",
    "    return(data_dict)"
   ]
  },
  {
   "cell_type": "code",
   "execution_count": null,
   "id": "f704d116-ee54-486f-8009-1ce107e581ca",
   "metadata": {},
   "outputs": [],
   "source": [
    "# openPage : Helper function\n",
    "def openPage(url_prefix, url_suffix, driver):\n",
    "    product_data= {}\n",
    "    \n",
    "    # Page to load\n",
    "    page_to_load = url_prefix + '1' + url_suffix\n",
    "    \n",
    "    # Load the web page\n",
    "    driver.get(page_to_load)\n",
    "    sleep(2)\n",
    "    \n",
    "    # Identify the number of products\n",
    "    product_count = int(driver.find_element_by_css_selector('div.products-bar div.products-count').text.split(\" \")[0])\n",
    "    print(f'There were {product_count} products detected')\n",
    "    \n",
    "    #Get data from the first page \n",
    "    product_data = get_product_data(driver, data_dict = product_data)\n",
    "    \n",
    "    # Get data from the rest of the pages\n",
    "    for i in range(2,int((product_count/24)+2)):\n",
    "        sleep(2)\n",
    "        page_to_load = url_prefix + str(i) + url_suffix\n",
    "        driver.get(page_to_load)\n",
    "        sleep(2)\n",
    "        product_data = get_product_data(driver, data_dict = product_data)            \n",
    "    return(product_data)\n"
   ]
  },
  {
   "cell_type": "code",
   "execution_count": null,
   "id": "fbaa6dd0-cf42-431b-9c2c-61621573558e",
   "metadata": {},
   "outputs": [],
   "source": [
    "# save_DataFrame : helper function\n",
    "def save_DataFrame(df, filename):\n",
    "    with open(filename, 'wb') as handle:\n",
    "        pickle.dump(df, handle, protocol=pickle.HIGHEST_PROTOCOL)\n"
   ]
  },
  {
   "cell_type": "code",
   "execution_count": null,
   "id": "a7e212d9-6447-489a-8af4-aa98046f1bee",
   "metadata": {},
   "outputs": [],
   "source": [
    "# load_DataFrame : helper function     \n",
    "def load_DataFrame(filename):\n",
    "    with open(filename, 'rb') as handle:\n",
    "        df = pickle.load(handle)\n",
    "        \n",
    "    return(df)"
   ]
  },
  {
   "cell_type": "code",
   "execution_count": null,
   "id": "24c0f7ec-c8bd-4765-a871-f4f6b1a8f149",
   "metadata": {},
   "outputs": [],
   "source": [
    "# Main program\n",
    "\n",
    "# Product page that lists the products\n",
    "page_prefix = 'https://www.appliancesonline.com.au/filter/consumer-electronics/tvs/?currentpage='\n",
    "page_suffix = '&sortkey=highestrated'  \n",
    "\n",
    "# incognito mode\n",
    "chrome_options = Options()\n",
    "chrome_options.add_argument('--incognito')\n",
    "driverPATH = 'C:\\\\University\\\\Master Class\\\\chromedriver_win32\\\\chromedriver.exe'\n",
    "chrome_Browser = webdriver.Chrome(driverPATH, options=chrome_options)\n",
    "\n",
    "# Get the product names and links and convert to a dataframe\n",
    "TV_dict = openPage(page_prefix, page_suffix, chrome_Browser)\n",
    "TV_df = pd.DataFrame(TV_dict).T\n",
    "\n",
    "#Close the browser\n",
    "chrome_Browser.close()\n",
    "\n",
    "# Save the TV_df to disk\n",
    "save_DataFrame(df = TV_df, filename='TV_names_and_links_df.pickle')\n",
    "\n",
    "# Display the TV_df\n",
    "TV_df.head(3)"
   ]
  }
 ],
 "metadata": {
  "kernelspec": {
   "display_name": "Python 3 (ipykernel)",
   "language": "python",
   "name": "python3"
  },
  "language_info": {
   "codemirror_mode": {
    "name": "ipython",
    "version": 3
   },
   "file_extension": ".py",
   "mimetype": "text/x-python",
   "name": "python",
   "nbconvert_exporter": "python",
   "pygments_lexer": "ipython3",
   "version": "3.8.12"
  }
 },
 "nbformat": 4,
 "nbformat_minor": 5
}
